{
 "cells": [
  {
   "cell_type": "markdown",
   "id": "3b723d5f",
   "metadata": {},
   "source": [
    "# 1. Import Library"
   ]
  },
  {
   "cell_type": "code",
   "execution_count": 1,
   "id": "0f1e7586",
   "metadata": {},
   "outputs": [],
   "source": [
    "import pandas as pd"
   ]
  },
  {
   "cell_type": "markdown",
   "id": "69863743",
   "metadata": {},
   "source": [
    "# 2. Load Data"
   ]
  },
  {
   "cell_type": "code",
   "execution_count": 2,
   "id": "d5b39d4a",
   "metadata": {},
   "outputs": [
    {
     "data": {
      "text/html": [
       "<div>\n",
       "<style scoped>\n",
       "    .dataframe tbody tr th:only-of-type {\n",
       "        vertical-align: middle;\n",
       "    }\n",
       "\n",
       "    .dataframe tbody tr th {\n",
       "        vertical-align: top;\n",
       "    }\n",
       "\n",
       "    .dataframe thead th {\n",
       "        text-align: right;\n",
       "    }\n",
       "</style>\n",
       "<table border=\"1\" class=\"dataframe\">\n",
       "  <thead>\n",
       "    <tr style=\"text-align: right;\">\n",
       "      <th></th>\n",
       "      <th>job_id</th>\n",
       "      <th>job_title</th>\n",
       "      <th>salary_usd</th>\n",
       "      <th>salary_currency</th>\n",
       "      <th>experience_level</th>\n",
       "      <th>employment_type</th>\n",
       "      <th>company_location</th>\n",
       "      <th>company_size</th>\n",
       "      <th>employee_residence</th>\n",
       "      <th>remote_ratio</th>\n",
       "      <th>required_skills</th>\n",
       "      <th>education_required</th>\n",
       "      <th>years_experience</th>\n",
       "      <th>industry</th>\n",
       "      <th>posting_date</th>\n",
       "      <th>application_deadline</th>\n",
       "      <th>job_description_length</th>\n",
       "      <th>benefits_score</th>\n",
       "      <th>company_name</th>\n",
       "    </tr>\n",
       "  </thead>\n",
       "  <tbody>\n",
       "    <tr>\n",
       "      <th>0</th>\n",
       "      <td>AI00001</td>\n",
       "      <td>AI Research Scientist</td>\n",
       "      <td>90376</td>\n",
       "      <td>USD</td>\n",
       "      <td>SE</td>\n",
       "      <td>CT</td>\n",
       "      <td>China</td>\n",
       "      <td>M</td>\n",
       "      <td>China</td>\n",
       "      <td>50</td>\n",
       "      <td>Tableau, PyTorch, Kubernetes, Linux, NLP</td>\n",
       "      <td>Bachelor</td>\n",
       "      <td>9</td>\n",
       "      <td>Automotive</td>\n",
       "      <td>2024-10-18</td>\n",
       "      <td>2024-11-07</td>\n",
       "      <td>1076</td>\n",
       "      <td>5.9</td>\n",
       "      <td>Smart Analytics</td>\n",
       "    </tr>\n",
       "    <tr>\n",
       "      <th>1</th>\n",
       "      <td>AI00002</td>\n",
       "      <td>AI Software Engineer</td>\n",
       "      <td>61895</td>\n",
       "      <td>USD</td>\n",
       "      <td>EN</td>\n",
       "      <td>CT</td>\n",
       "      <td>Canada</td>\n",
       "      <td>M</td>\n",
       "      <td>Ireland</td>\n",
       "      <td>100</td>\n",
       "      <td>Deep Learning, AWS, Mathematics, Python, Docker</td>\n",
       "      <td>Master</td>\n",
       "      <td>1</td>\n",
       "      <td>Media</td>\n",
       "      <td>2024-11-20</td>\n",
       "      <td>2025-01-11</td>\n",
       "      <td>1268</td>\n",
       "      <td>5.2</td>\n",
       "      <td>TechCorp Inc</td>\n",
       "    </tr>\n",
       "    <tr>\n",
       "      <th>2</th>\n",
       "      <td>AI00003</td>\n",
       "      <td>AI Specialist</td>\n",
       "      <td>152626</td>\n",
       "      <td>USD</td>\n",
       "      <td>MI</td>\n",
       "      <td>FL</td>\n",
       "      <td>Switzerland</td>\n",
       "      <td>L</td>\n",
       "      <td>South Korea</td>\n",
       "      <td>0</td>\n",
       "      <td>Kubernetes, Deep Learning, Java, Hadoop, NLP</td>\n",
       "      <td>Associate</td>\n",
       "      <td>2</td>\n",
       "      <td>Education</td>\n",
       "      <td>2025-03-18</td>\n",
       "      <td>2025-04-07</td>\n",
       "      <td>1974</td>\n",
       "      <td>9.4</td>\n",
       "      <td>Autonomous Tech</td>\n",
       "    </tr>\n",
       "    <tr>\n",
       "      <th>3</th>\n",
       "      <td>AI00004</td>\n",
       "      <td>NLP Engineer</td>\n",
       "      <td>80215</td>\n",
       "      <td>USD</td>\n",
       "      <td>SE</td>\n",
       "      <td>FL</td>\n",
       "      <td>India</td>\n",
       "      <td>M</td>\n",
       "      <td>India</td>\n",
       "      <td>50</td>\n",
       "      <td>Scala, SQL, Linux, Python</td>\n",
       "      <td>PhD</td>\n",
       "      <td>7</td>\n",
       "      <td>Consulting</td>\n",
       "      <td>2024-12-23</td>\n",
       "      <td>2025-02-24</td>\n",
       "      <td>1345</td>\n",
       "      <td>8.6</td>\n",
       "      <td>Future Systems</td>\n",
       "    </tr>\n",
       "    <tr>\n",
       "      <th>4</th>\n",
       "      <td>AI00005</td>\n",
       "      <td>AI Consultant</td>\n",
       "      <td>54624</td>\n",
       "      <td>EUR</td>\n",
       "      <td>EN</td>\n",
       "      <td>PT</td>\n",
       "      <td>France</td>\n",
       "      <td>S</td>\n",
       "      <td>Singapore</td>\n",
       "      <td>100</td>\n",
       "      <td>MLOps, Java, Tableau, Python</td>\n",
       "      <td>Master</td>\n",
       "      <td>0</td>\n",
       "      <td>Media</td>\n",
       "      <td>2025-04-15</td>\n",
       "      <td>2025-06-23</td>\n",
       "      <td>1989</td>\n",
       "      <td>6.6</td>\n",
       "      <td>Advanced Robotics</td>\n",
       "    </tr>\n",
       "  </tbody>\n",
       "</table>\n",
       "</div>"
      ],
      "text/plain": [
       "    job_id              job_title  salary_usd salary_currency  \\\n",
       "0  AI00001  AI Research Scientist       90376             USD   \n",
       "1  AI00002   AI Software Engineer       61895             USD   \n",
       "2  AI00003          AI Specialist      152626             USD   \n",
       "3  AI00004           NLP Engineer       80215             USD   \n",
       "4  AI00005          AI Consultant       54624             EUR   \n",
       "\n",
       "  experience_level employment_type company_location company_size  \\\n",
       "0               SE              CT            China            M   \n",
       "1               EN              CT           Canada            M   \n",
       "2               MI              FL      Switzerland            L   \n",
       "3               SE              FL            India            M   \n",
       "4               EN              PT           France            S   \n",
       "\n",
       "  employee_residence  remote_ratio  \\\n",
       "0              China            50   \n",
       "1            Ireland           100   \n",
       "2        South Korea             0   \n",
       "3              India            50   \n",
       "4          Singapore           100   \n",
       "\n",
       "                                   required_skills education_required  \\\n",
       "0         Tableau, PyTorch, Kubernetes, Linux, NLP           Bachelor   \n",
       "1  Deep Learning, AWS, Mathematics, Python, Docker             Master   \n",
       "2     Kubernetes, Deep Learning, Java, Hadoop, NLP          Associate   \n",
       "3                        Scala, SQL, Linux, Python                PhD   \n",
       "4                     MLOps, Java, Tableau, Python             Master   \n",
       "\n",
       "   years_experience    industry posting_date application_deadline  \\\n",
       "0                 9  Automotive   2024-10-18           2024-11-07   \n",
       "1                 1       Media   2024-11-20           2025-01-11   \n",
       "2                 2   Education   2025-03-18           2025-04-07   \n",
       "3                 7  Consulting   2024-12-23           2025-02-24   \n",
       "4                 0       Media   2025-04-15           2025-06-23   \n",
       "\n",
       "   job_description_length  benefits_score       company_name  \n",
       "0                    1076             5.9    Smart Analytics  \n",
       "1                    1268             5.2       TechCorp Inc  \n",
       "2                    1974             9.4    Autonomous Tech  \n",
       "3                    1345             8.6     Future Systems  \n",
       "4                    1989             6.6  Advanced Robotics  "
      ]
     },
     "execution_count": 2,
     "metadata": {},
     "output_type": "execute_result"
    }
   ],
   "source": [
    "df = pd.read_csv(\"ai_job_dataset.csv\")\n",
    "df.head()"
   ]
  },
  {
   "cell_type": "markdown",
   "id": "416b5066",
   "metadata": {},
   "source": [
    "Notes:\n",
    "* experience_level:\n",
    "    - SE = Senior\n",
    "    - EN = Entry\n",
    "    - MI = Mid\n",
    "    - EX = Executive\n",
    "* employment_type:\n",
    "    - CT = Contract\n",
    "    - FL = Full-Time\n",
    "    - PT = Part-Time\n",
    "    - FT = Freelance\n",
    "* company_size:\n",
    "    - M = Medium (50-250)\n",
    "    - L = Large (>250)\n",
    "    - S = Small (<50)\n",
    "* remote_ratio:\n",
    "    - 0 = No remote\n",
    "    - 50 = Hybrid\n",
    "    - 100 = Remote"
   ]
  },
  {
   "cell_type": "code",
   "execution_count": 3,
   "id": "f5ef03ab",
   "metadata": {},
   "outputs": [
    {
     "name": "stdout",
     "output_type": "stream",
     "text": [
      "                  Features  Number of Cardinality  \\\n",
      "0                   job_id                  15000   \n",
      "1                job_title                     20   \n",
      "2               salary_usd                  14315   \n",
      "3          salary_currency                      3   \n",
      "4         experience_level                      4   \n",
      "5          employment_type                      4   \n",
      "6         company_location                     20   \n",
      "7             company_size                      3   \n",
      "8       employee_residence                     20   \n",
      "9             remote_ratio                      3   \n",
      "10         required_skills                  13663   \n",
      "11      education_required                      4   \n",
      "12        years_experience                     20   \n",
      "13                industry                     15   \n",
      "14            posting_date                    486   \n",
      "15    application_deadline                    543   \n",
      "16  job_description_length                   2000   \n",
      "17          benefits_score                     51   \n",
      "18            company_name                     16   \n",
      "\n",
      "                                          Cardinality  \n",
      "0   [AI00001, AI00002, AI00003, AI00004, AI00005, ...  \n",
      "1   [AI Research Scientist, AI Software Engineer, ...  \n",
      "2   [90376, 61895, 152626, 80215, 54624, 123574, 7...  \n",
      "3                                     [USD, EUR, GBP]  \n",
      "4                                    [SE, EN, MI, EX]  \n",
      "5                                    [CT, FL, PT, FT]  \n",
      "6   [China, Canada, Switzerland, India, France, Ge...  \n",
      "7                                           [M, L, S]  \n",
      "8   [China, Ireland, South Korea, India, Singapore...  \n",
      "9                                        [50, 100, 0]  \n",
      "10  [Tableau, PyTorch, Kubernetes, Linux, NLP, Dee...  \n",
      "11                 [Bachelor, Master, Associate, PhD]  \n",
      "12  [9, 1, 2, 7, 0, 3, 5, 8, 15, 6, 4, 16, 10, 18,...  \n",
      "13  [Automotive, Media, Education, Consulting, Hea...  \n",
      "14  [2024-10-18, 2024-11-20, 2025-03-18, 2024-12-2...  \n",
      "15  [2024-11-07, 2025-01-11, 2025-04-07, 2025-02-2...  \n",
      "16  [1076, 1268, 1974, 1345, 1989, 819, 1936, 1286...  \n",
      "17  [5.9, 5.2, 9.4, 8.6, 6.6, 6.3, 7.6, 9.3, 5.8, ...  \n",
      "18  [Smart Analytics, TechCorp Inc, Autonomous Tec...  \n"
     ]
    }
   ],
   "source": [
    "summary = pd.DataFrame({\n",
    "    'Features': df.columns,\n",
    "    'Number of Cardinality': [df[col].nunique() for col in df.columns],\n",
    "    'Cardinality': [df[col].unique()[:20]for col in df.columns]\n",
    "})\n",
    "\n",
    "print(summary)"
   ]
  },
  {
   "cell_type": "markdown",
   "id": "6ee70fea",
   "metadata": {},
   "source": [
    "## Checking Data Type of Each Features"
   ]
  },
  {
   "cell_type": "code",
   "execution_count": 4,
   "id": "162b8bda",
   "metadata": {},
   "outputs": [
    {
     "name": "stdout",
     "output_type": "stream",
     "text": [
      "<class 'pandas.core.frame.DataFrame'>\n",
      "RangeIndex: 15000 entries, 0 to 14999\n",
      "Data columns (total 19 columns):\n",
      " #   Column                  Non-Null Count  Dtype  \n",
      "---  ------                  --------------  -----  \n",
      " 0   job_id                  15000 non-null  object \n",
      " 1   job_title               15000 non-null  object \n",
      " 2   salary_usd              15000 non-null  int64  \n",
      " 3   salary_currency         15000 non-null  object \n",
      " 4   experience_level        15000 non-null  object \n",
      " 5   employment_type         15000 non-null  object \n",
      " 6   company_location        15000 non-null  object \n",
      " 7   company_size            15000 non-null  object \n",
      " 8   employee_residence      15000 non-null  object \n",
      " 9   remote_ratio            15000 non-null  int64  \n",
      " 10  required_skills         15000 non-null  object \n",
      " 11  education_required      15000 non-null  object \n",
      " 12  years_experience        15000 non-null  int64  \n",
      " 13  industry                15000 non-null  object \n",
      " 14  posting_date            15000 non-null  object \n",
      " 15  application_deadline    15000 non-null  object \n",
      " 16  job_description_length  15000 non-null  int64  \n",
      " 17  benefits_score          15000 non-null  float64\n",
      " 18  company_name            15000 non-null  object \n",
      "dtypes: float64(1), int64(4), object(14)\n",
      "memory usage: 2.2+ MB\n"
     ]
    }
   ],
   "source": [
    "df.info()"
   ]
  },
  {
   "cell_type": "markdown",
   "id": "a605e4ed",
   "metadata": {},
   "source": [
    "The data type of each features is correct"
   ]
  },
  {
   "cell_type": "markdown",
   "id": "9e5ebaef",
   "metadata": {},
   "source": [
    "## Checking Duplicates Data"
   ]
  },
  {
   "cell_type": "code",
   "execution_count": 5,
   "id": "b725d324",
   "metadata": {},
   "outputs": [
    {
     "data": {
      "text/plain": [
       "0"
      ]
     },
     "execution_count": 5,
     "metadata": {},
     "output_type": "execute_result"
    }
   ],
   "source": [
    "df.duplicated().sum()"
   ]
  },
  {
   "cell_type": "markdown",
   "id": "3350d409",
   "metadata": {},
   "source": [
    "There is no duplicate data"
   ]
  },
  {
   "cell_type": "markdown",
   "id": "45b1038b",
   "metadata": {},
   "source": [
    "# 3. Statistical Analysis"
   ]
  },
  {
   "cell_type": "code",
   "execution_count": 6,
   "id": "aa1d3455",
   "metadata": {},
   "outputs": [
    {
     "data": {
      "text/html": [
       "<div>\n",
       "<style scoped>\n",
       "    .dataframe tbody tr th:only-of-type {\n",
       "        vertical-align: middle;\n",
       "    }\n",
       "\n",
       "    .dataframe tbody tr th {\n",
       "        vertical-align: top;\n",
       "    }\n",
       "\n",
       "    .dataframe thead th {\n",
       "        text-align: right;\n",
       "    }\n",
       "</style>\n",
       "<table border=\"1\" class=\"dataframe\">\n",
       "  <thead>\n",
       "    <tr style=\"text-align: right;\">\n",
       "      <th></th>\n",
       "      <th>salary_usd</th>\n",
       "      <th>remote_ratio</th>\n",
       "      <th>years_experience</th>\n",
       "      <th>job_description_length</th>\n",
       "      <th>benefits_score</th>\n",
       "    </tr>\n",
       "  </thead>\n",
       "  <tbody>\n",
       "    <tr>\n",
       "      <th>count</th>\n",
       "      <td>15000.000000</td>\n",
       "      <td>15000.000000</td>\n",
       "      <td>15000.000000</td>\n",
       "      <td>15000.000000</td>\n",
       "      <td>15000.000000</td>\n",
       "    </tr>\n",
       "    <tr>\n",
       "      <th>mean</th>\n",
       "      <td>115348.965133</td>\n",
       "      <td>49.483333</td>\n",
       "      <td>6.253200</td>\n",
       "      <td>1503.314733</td>\n",
       "      <td>7.504273</td>\n",
       "    </tr>\n",
       "    <tr>\n",
       "      <th>std</th>\n",
       "      <td>60260.940438</td>\n",
       "      <td>40.812712</td>\n",
       "      <td>5.545768</td>\n",
       "      <td>576.127083</td>\n",
       "      <td>1.450870</td>\n",
       "    </tr>\n",
       "    <tr>\n",
       "      <th>min</th>\n",
       "      <td>32519.000000</td>\n",
       "      <td>0.000000</td>\n",
       "      <td>0.000000</td>\n",
       "      <td>500.000000</td>\n",
       "      <td>5.000000</td>\n",
       "    </tr>\n",
       "    <tr>\n",
       "      <th>25%</th>\n",
       "      <td>70179.750000</td>\n",
       "      <td>0.000000</td>\n",
       "      <td>2.000000</td>\n",
       "      <td>1003.750000</td>\n",
       "      <td>6.200000</td>\n",
       "    </tr>\n",
       "    <tr>\n",
       "      <th>50%</th>\n",
       "      <td>99705.000000</td>\n",
       "      <td>50.000000</td>\n",
       "      <td>5.000000</td>\n",
       "      <td>1512.000000</td>\n",
       "      <td>7.500000</td>\n",
       "    </tr>\n",
       "    <tr>\n",
       "      <th>75%</th>\n",
       "      <td>146408.500000</td>\n",
       "      <td>100.000000</td>\n",
       "      <td>10.000000</td>\n",
       "      <td>2000.000000</td>\n",
       "      <td>8.800000</td>\n",
       "    </tr>\n",
       "    <tr>\n",
       "      <th>max</th>\n",
       "      <td>399095.000000</td>\n",
       "      <td>100.000000</td>\n",
       "      <td>19.000000</td>\n",
       "      <td>2499.000000</td>\n",
       "      <td>10.000000</td>\n",
       "    </tr>\n",
       "  </tbody>\n",
       "</table>\n",
       "</div>"
      ],
      "text/plain": [
       "          salary_usd  remote_ratio  years_experience  job_description_length  \\\n",
       "count   15000.000000  15000.000000      15000.000000            15000.000000   \n",
       "mean   115348.965133     49.483333          6.253200             1503.314733   \n",
       "std     60260.940438     40.812712          5.545768              576.127083   \n",
       "min     32519.000000      0.000000          0.000000              500.000000   \n",
       "25%     70179.750000      0.000000          2.000000             1003.750000   \n",
       "50%     99705.000000     50.000000          5.000000             1512.000000   \n",
       "75%    146408.500000    100.000000         10.000000             2000.000000   \n",
       "max    399095.000000    100.000000         19.000000             2499.000000   \n",
       "\n",
       "       benefits_score  \n",
       "count    15000.000000  \n",
       "mean         7.504273  \n",
       "std          1.450870  \n",
       "min          5.000000  \n",
       "25%          6.200000  \n",
       "50%          7.500000  \n",
       "75%          8.800000  \n",
       "max         10.000000  "
      ]
     },
     "execution_count": 6,
     "metadata": {},
     "output_type": "execute_result"
    }
   ],
   "source": [
    "df.describe()"
   ]
  },
  {
   "cell_type": "markdown",
   "id": "07144f16",
   "metadata": {},
   "source": [
    "## Normality Check"
   ]
  },
  {
   "cell_type": "code",
   "execution_count": 7,
   "id": "6c8a32ce",
   "metadata": {},
   "outputs": [
    {
     "name": "stdout",
     "output_type": "stream",
     "text": [
      "salary_usd: 1.2527592133197596\n",
      "remote_ratio: 0.018981197240634334\n",
      "years_experience: 0.7788132121793866\n",
      "job_description_length: -0.01182202766151641\n",
      "benefits_score: -0.009657871296079869\n"
     ]
    }
   ],
   "source": [
    "numeric_cols = df.select_dtypes(include='number').columns\n",
    "\n",
    "for col in numeric_cols:\n",
    "    print(f'{col}: {df[col].skew()}')"
   ]
  },
  {
   "cell_type": "markdown",
   "id": "2d7413de",
   "metadata": {},
   "source": [
    "Features salary_usd is Positive Highly Skewed. Features remote_ratio, job_description_length, and benefits_score are aprroximately symetric, and Features years_experience is moderately skewed"
   ]
  },
  {
   "cell_type": "code",
   "execution_count": 8,
   "id": "47aed3d2",
   "metadata": {},
   "outputs": [
    {
     "name": "stdout",
     "output_type": "stream",
     "text": [
      "salary_usd: 1.56922226950801\n",
      "remote_ratio: -1.498868689442591\n",
      "years_experience: -0.5249559915299491\n",
      "job_description_length: -1.1979808763291446\n",
      "benefits_score: -1.2089971234531076\n"
     ]
    }
   ],
   "source": [
    "for col in numeric_cols:\n",
    "    print(f'{col}: {df[col].kurtosis()}')"
   ]
  },
  {
   "cell_type": "markdown",
   "id": "1381e90c",
   "metadata": {},
   "source": [
    "Features salary_usd is leprokurtic. Features remote_ratio, years_experience, job_description_length, amd benefit_score are platykurtic"
   ]
  },
  {
   "cell_type": "markdown",
   "id": "7ee9e7b0",
   "metadata": {},
   "source": [
    "# 4. Eploratory Data Analysist"
   ]
  },
  {
   "cell_type": "code",
   "execution_count": 9,
   "id": "3a8f9d4b",
   "metadata": {},
   "outputs": [
    {
     "data": {
      "text/html": [
       "<div>\n",
       "<style scoped>\n",
       "    .dataframe tbody tr th:only-of-type {\n",
       "        vertical-align: middle;\n",
       "    }\n",
       "\n",
       "    .dataframe tbody tr th {\n",
       "        vertical-align: top;\n",
       "    }\n",
       "\n",
       "    .dataframe thead th {\n",
       "        text-align: right;\n",
       "    }\n",
       "</style>\n",
       "<table border=\"1\" class=\"dataframe\">\n",
       "  <thead>\n",
       "    <tr style=\"text-align: right;\">\n",
       "      <th></th>\n",
       "      <th>job_id</th>\n",
       "      <th>job_title</th>\n",
       "      <th>salary_usd</th>\n",
       "      <th>salary_currency</th>\n",
       "      <th>experience_level</th>\n",
       "      <th>employment_type</th>\n",
       "      <th>company_location</th>\n",
       "      <th>company_size</th>\n",
       "      <th>employee_residence</th>\n",
       "      <th>remote_ratio</th>\n",
       "      <th>required_skills</th>\n",
       "      <th>education_required</th>\n",
       "      <th>years_experience</th>\n",
       "      <th>industry</th>\n",
       "      <th>posting_date</th>\n",
       "      <th>application_deadline</th>\n",
       "      <th>job_description_length</th>\n",
       "      <th>benefits_score</th>\n",
       "      <th>company_name</th>\n",
       "    </tr>\n",
       "  </thead>\n",
       "  <tbody>\n",
       "    <tr>\n",
       "      <th>0</th>\n",
       "      <td>AI00001</td>\n",
       "      <td>AI Research Scientist</td>\n",
       "      <td>90376</td>\n",
       "      <td>USD</td>\n",
       "      <td>SE</td>\n",
       "      <td>CT</td>\n",
       "      <td>China</td>\n",
       "      <td>M</td>\n",
       "      <td>China</td>\n",
       "      <td>50</td>\n",
       "      <td>Tableau, PyTorch, Kubernetes, Linux, NLP</td>\n",
       "      <td>Bachelor</td>\n",
       "      <td>9</td>\n",
       "      <td>Automotive</td>\n",
       "      <td>2024-10-18</td>\n",
       "      <td>2024-11-07</td>\n",
       "      <td>1076</td>\n",
       "      <td>5.9</td>\n",
       "      <td>Smart Analytics</td>\n",
       "    </tr>\n",
       "    <tr>\n",
       "      <th>1</th>\n",
       "      <td>AI00002</td>\n",
       "      <td>AI Software Engineer</td>\n",
       "      <td>61895</td>\n",
       "      <td>USD</td>\n",
       "      <td>EN</td>\n",
       "      <td>CT</td>\n",
       "      <td>Canada</td>\n",
       "      <td>M</td>\n",
       "      <td>Ireland</td>\n",
       "      <td>100</td>\n",
       "      <td>Deep Learning, AWS, Mathematics, Python, Docker</td>\n",
       "      <td>Master</td>\n",
       "      <td>1</td>\n",
       "      <td>Media</td>\n",
       "      <td>2024-11-20</td>\n",
       "      <td>2025-01-11</td>\n",
       "      <td>1268</td>\n",
       "      <td>5.2</td>\n",
       "      <td>TechCorp Inc</td>\n",
       "    </tr>\n",
       "    <tr>\n",
       "      <th>2</th>\n",
       "      <td>AI00003</td>\n",
       "      <td>AI Specialist</td>\n",
       "      <td>152626</td>\n",
       "      <td>USD</td>\n",
       "      <td>MI</td>\n",
       "      <td>FL</td>\n",
       "      <td>Switzerland</td>\n",
       "      <td>L</td>\n",
       "      <td>South Korea</td>\n",
       "      <td>0</td>\n",
       "      <td>Kubernetes, Deep Learning, Java, Hadoop, NLP</td>\n",
       "      <td>Associate</td>\n",
       "      <td>2</td>\n",
       "      <td>Education</td>\n",
       "      <td>2025-03-18</td>\n",
       "      <td>2025-04-07</td>\n",
       "      <td>1974</td>\n",
       "      <td>9.4</td>\n",
       "      <td>Autonomous Tech</td>\n",
       "    </tr>\n",
       "    <tr>\n",
       "      <th>3</th>\n",
       "      <td>AI00004</td>\n",
       "      <td>NLP Engineer</td>\n",
       "      <td>80215</td>\n",
       "      <td>USD</td>\n",
       "      <td>SE</td>\n",
       "      <td>FL</td>\n",
       "      <td>India</td>\n",
       "      <td>M</td>\n",
       "      <td>India</td>\n",
       "      <td>50</td>\n",
       "      <td>Scala, SQL, Linux, Python</td>\n",
       "      <td>PhD</td>\n",
       "      <td>7</td>\n",
       "      <td>Consulting</td>\n",
       "      <td>2024-12-23</td>\n",
       "      <td>2025-02-24</td>\n",
       "      <td>1345</td>\n",
       "      <td>8.6</td>\n",
       "      <td>Future Systems</td>\n",
       "    </tr>\n",
       "    <tr>\n",
       "      <th>4</th>\n",
       "      <td>AI00005</td>\n",
       "      <td>AI Consultant</td>\n",
       "      <td>54624</td>\n",
       "      <td>EUR</td>\n",
       "      <td>EN</td>\n",
       "      <td>PT</td>\n",
       "      <td>France</td>\n",
       "      <td>S</td>\n",
       "      <td>Singapore</td>\n",
       "      <td>100</td>\n",
       "      <td>MLOps, Java, Tableau, Python</td>\n",
       "      <td>Master</td>\n",
       "      <td>0</td>\n",
       "      <td>Media</td>\n",
       "      <td>2025-04-15</td>\n",
       "      <td>2025-06-23</td>\n",
       "      <td>1989</td>\n",
       "      <td>6.6</td>\n",
       "      <td>Advanced Robotics</td>\n",
       "    </tr>\n",
       "  </tbody>\n",
       "</table>\n",
       "</div>"
      ],
      "text/plain": [
       "    job_id              job_title  salary_usd salary_currency  \\\n",
       "0  AI00001  AI Research Scientist       90376             USD   \n",
       "1  AI00002   AI Software Engineer       61895             USD   \n",
       "2  AI00003          AI Specialist      152626             USD   \n",
       "3  AI00004           NLP Engineer       80215             USD   \n",
       "4  AI00005          AI Consultant       54624             EUR   \n",
       "\n",
       "  experience_level employment_type company_location company_size  \\\n",
       "0               SE              CT            China            M   \n",
       "1               EN              CT           Canada            M   \n",
       "2               MI              FL      Switzerland            L   \n",
       "3               SE              FL            India            M   \n",
       "4               EN              PT           France            S   \n",
       "\n",
       "  employee_residence  remote_ratio  \\\n",
       "0              China            50   \n",
       "1            Ireland           100   \n",
       "2        South Korea             0   \n",
       "3              India            50   \n",
       "4          Singapore           100   \n",
       "\n",
       "                                   required_skills education_required  \\\n",
       "0         Tableau, PyTorch, Kubernetes, Linux, NLP           Bachelor   \n",
       "1  Deep Learning, AWS, Mathematics, Python, Docker             Master   \n",
       "2     Kubernetes, Deep Learning, Java, Hadoop, NLP          Associate   \n",
       "3                        Scala, SQL, Linux, Python                PhD   \n",
       "4                     MLOps, Java, Tableau, Python             Master   \n",
       "\n",
       "   years_experience    industry posting_date application_deadline  \\\n",
       "0                 9  Automotive   2024-10-18           2024-11-07   \n",
       "1                 1       Media   2024-11-20           2025-01-11   \n",
       "2                 2   Education   2025-03-18           2025-04-07   \n",
       "3                 7  Consulting   2024-12-23           2025-02-24   \n",
       "4                 0       Media   2025-04-15           2025-06-23   \n",
       "\n",
       "   job_description_length  benefits_score       company_name  \n",
       "0                    1076             5.9    Smart Analytics  \n",
       "1                    1268             5.2       TechCorp Inc  \n",
       "2                    1974             9.4    Autonomous Tech  \n",
       "3                    1345             8.6     Future Systems  \n",
       "4                    1989             6.6  Advanced Robotics  "
      ]
     },
     "execution_count": 9,
     "metadata": {},
     "output_type": "execute_result"
    }
   ],
   "source": [
    "df.head(5)"
   ]
  },
  {
   "cell_type": "markdown",
   "id": "12905c3c",
   "metadata": {},
   "source": [
    "## A. What Is The Highest Paying Job?"
   ]
  },
  {
   "cell_type": "code",
   "execution_count": 11,
   "id": "d5497fea",
   "metadata": {},
   "outputs": [
    {
     "data": {
      "text/plain": [
       "job_title\n",
       "AI Architect                   398084\n",
       "AI Consultant                  325757\n",
       "AI Product Manager             381575\n",
       "AI Research Scientist          394917\n",
       "AI Software Engineer           379418\n",
       "AI Specialist                  390292\n",
       "Autonomous Systems Engineer    364585\n",
       "Computer Vision Engineer       366957\n",
       "Data Analyst                   361541\n",
       "Data Engineer                  359044\n",
       "Data Scientist                 388754\n",
       "Deep Learning Engineer         362503\n",
       "Head of AI                     361718\n",
       "ML Ops Engineer                352006\n",
       "Machine Learning Engineer      344427\n",
       "Machine Learning Researcher    399095\n",
       "NLP Engineer                   357880\n",
       "Principal Data Scientist       364635\n",
       "Research Scientist             339526\n",
       "Robotics Engineer              346789\n",
       "Name: salary_usd, dtype: int64"
      ]
     },
     "execution_count": 11,
     "metadata": {},
     "output_type": "execute_result"
    }
   ],
   "source": [
    "highest_job = df.groupby('job_title')['salary_usd'].max()\n",
    "highest_job"
   ]
  },
  {
   "cell_type": "code",
   "execution_count": 12,
   "id": "a7933b05",
   "metadata": {},
   "outputs": [
    {
     "data": {
      "text/plain": [
       "job_title\n",
       "AI Specialist                  120570.758242\n",
       "Machine Learning Engineer      118827.919689\n",
       "Head of AI                     118542.968627\n",
       "AI Research Scientist          117897.925926\n",
       "AI Architect                   117436.513619\n",
       "Robotics Engineer              116470.793149\n",
       "Principal Data Scientist       116305.219346\n",
       "Research Scientist             116066.502695\n",
       "Data Engineer                  115970.720961\n",
       "Data Scientist                 115819.008333\n",
       "ML Ops Engineer                115431.335172\n",
       "AI Product Manager             114680.909825\n",
       "AI Software Engineer           114273.201531\n",
       "Deep Learning Engineer         113725.632312\n",
       "AI Consultant                  113671.870739\n",
       "Computer Vision Engineer       113472.707182\n",
       "NLP Engineer                   112670.937008\n",
       "Machine Learning Researcher    112621.747525\n",
       "Autonomous Systems Engineer    111396.557272\n",
       "Data Analyst                   111321.180501\n",
       "Name: salary_usd, dtype: float64"
      ]
     },
     "execution_count": 12,
     "metadata": {},
     "output_type": "execute_result"
    }
   ],
   "source": [
    "highest_average = df.groupby('job_title')['salary_usd'].mean().sort_values(ascending=False)\n",
    "highest_average"
   ]
  },
  {
   "cell_type": "markdown",
   "id": "8e7a7060",
   "metadata": {},
   "source": [
    "As we can see, Robotic Engineer has the lowest salary in maximum. But if we're talking about average, Data Analyst placed as the lowest paying job in average. This phenomenon may influence by other factors too, for example Education Level  "
   ]
  },
  {
   "cell_type": "code",
   "execution_count": 15,
   "id": "a28b39dc",
   "metadata": {},
   "outputs": [
    {
     "data": {
      "text/plain": [
       "education_required\n",
       "Master       117171.815902\n",
       "Bachelor     115861.629190\n",
       "Associate    114605.708058\n",
       "PhD          113728.165579\n",
       "Name: salary_usd, dtype: float64"
      ]
     },
     "execution_count": 15,
     "metadata": {},
     "output_type": "execute_result"
    }
   ],
   "source": [
    "job_ed = df.groupby('education_required')['salary_usd'].mean().sort_values(ascending=False)\n",
    "job_ed"
   ]
  },
  {
   "cell_type": "code",
   "execution_count": 16,
   "id": "3d7394ad",
   "metadata": {},
   "outputs": [
    {
     "data": {
      "text/plain": [
       "array(['Bachelor', 'Master', 'Associate', 'PhD'], dtype=object)"
      ]
     },
     "execution_count": 16,
     "metadata": {},
     "output_type": "execute_result"
    }
   ],
   "source": [
    "df['education_required'].unique()"
   ]
  },
  {
   "cell_type": "code",
   "execution_count": 28,
   "id": "d8a741d6",
   "metadata": {},
   "outputs": [
    {
     "name": "stdout",
     "output_type": "stream",
     "text": [
      "Highest Average Paying Job for Bachelor Degree:  job_title\n",
      "Machine Learning Engineer      125437.483333\n",
      "Data Scientist                 125375.261780\n",
      "AI Specialist                  123821.613095\n",
      "Head of AI                     122473.897059\n",
      "Computer Vision Engineer       119234.794444\n",
      "Robotics Engineer              117914.515625\n",
      "Data Engineer                  117622.169154\n",
      "AI Software Engineer           116223.937799\n",
      "AI Consultant                  115968.837349\n",
      "AI Architect                   115310.400000\n",
      "ML Ops Engineer                114524.030769\n",
      "NLP Engineer                   114307.335079\n",
      "Deep Learning Engineer         114262.010256\n",
      "Principal Data Scientist       114005.779661\n",
      "Machine Learning Researcher    113091.000000\n",
      "Autonomous Systems Engineer    112487.259669\n",
      "AI Product Manager             112194.284946\n",
      "Research Scientist             108326.567708\n",
      "Data Analyst                   108122.355769\n",
      "AI Research Scientist          108036.860215\n",
      "Name: salary_usd, dtype: float64\n"
     ]
    }
   ],
   "source": [
    "bachelor = df[df['education_required'] == 'Bachelor']\n",
    "educ = bachelor.groupby('job_title')['salary_usd'].mean().sort_values(ascending=False)\n",
    "print(f'Highest Average Paying Job for Bachelor Degree: ', educ)\n"
   ]
  },
  {
   "cell_type": "code",
   "execution_count": 29,
   "id": "2f94b5a6",
   "metadata": {},
   "outputs": [
    {
     "name": "stdout",
     "output_type": "stream",
     "text": [
      "Highest Average Paying Job for Master Degree:  job_title\n",
      "AI Research Scientist          124687.869347\n",
      "Head of AI                     123964.176471\n",
      "AI Architect                   121636.565000\n",
      "Machine Learning Engineer      121463.698324\n",
      "Robotics Engineer              120974.073892\n",
      "Data Analyst                   118279.217822\n",
      "AI Product Manager             117755.373684\n",
      "Research Scientist             117591.208092\n",
      "Principal Data Scientist       117312.454545\n",
      "Data Engineer                  117093.831461\n",
      "ML Ops Engineer                117023.697297\n",
      "AI Software Engineer           116759.529730\n",
      "AI Specialist                  116429.424870\n",
      "Machine Learning Researcher    115586.707071\n",
      "Data Scientist                 115564.885870\n",
      "NLP Engineer                   114165.584906\n",
      "Deep Learning Engineer         114061.785714\n",
      "Computer Vision Engineer       113779.270718\n",
      "AI Consultant                  111253.523529\n",
      "Autonomous Systems Engineer    106466.578378\n",
      "Name: salary_usd, dtype: float64\n"
     ]
    }
   ],
   "source": [
    "master = df[df['education_required'] == 'Master']\n",
    "ma = master.groupby('job_title')['salary_usd'].mean().sort_values(ascending=False)\n",
    "print(f'Highest Average Paying Job for Master Degree: ', ma)"
   ]
  },
  {
   "cell_type": "markdown",
   "id": "a9467b5b",
   "metadata": {},
   "source": [
    "Master graduate has earn higher income compared to those who graduated from PhD despite their education level"
   ]
  },
  {
   "cell_type": "markdown",
   "id": "47164939",
   "metadata": {},
   "source": [
    "## B. Are Remote Workers Has Higher Income?"
   ]
  },
  {
   "cell_type": "markdown",
   "id": "ebd941db",
   "metadata": {},
   "source": [
    "## C. How Freelance Workers Income Compared to Full Time Employee?"
   ]
  },
  {
   "cell_type": "markdown",
   "id": "572c3270",
   "metadata": {},
   "source": [
    "## D. Does Company Size Has Influence on Employee Income?"
   ]
  },
  {
   "cell_type": "markdown",
   "id": "3a5f3db1",
   "metadata": {},
   "source": [
    "## E. From Which Country Has Highest Income Employee? Which Country Pay Highest For Their Employee?"
   ]
  },
  {
   "cell_type": "code",
   "execution_count": 10,
   "id": "18f8bed6",
   "metadata": {},
   "outputs": [
    {
     "data": {
      "text/plain": [
       "array(['China', 'Ireland', 'South Korea', 'India', 'Singapore', 'Germany',\n",
       "       'United Kingdom', 'France', 'Austria', 'Sweden', 'Norway',\n",
       "       'Israel', 'United States', 'Netherlands', 'Denmark', 'Switzerland',\n",
       "       'Finland', 'Japan', 'Canada', 'Australia'], dtype=object)"
      ]
     },
     "execution_count": 10,
     "metadata": {},
     "output_type": "execute_result"
    }
   ],
   "source": [
    "df['employee_residence'].unique()"
   ]
  },
  {
   "cell_type": "markdown",
   "id": "32e1ecdf",
   "metadata": {},
   "source": [
    "## F. What Industry Has Highest Potential?"
   ]
  }
 ],
 "metadata": {
  "kernelspec": {
   "display_name": "base",
   "language": "python",
   "name": "python3"
  },
  "language_info": {
   "codemirror_mode": {
    "name": "ipython",
    "version": 3
   },
   "file_extension": ".py",
   "mimetype": "text/x-python",
   "name": "python",
   "nbconvert_exporter": "python",
   "pygments_lexer": "ipython3",
   "version": "3.9.21"
  }
 },
 "nbformat": 4,
 "nbformat_minor": 5
}
